{
 "cells": [
  {
   "cell_type": "code",
   "execution_count": 1,
   "metadata": {
    "collapsed": true
   },
   "outputs": [],
   "source": [
    "import numpy as np\n",
    "import matplotlib.pyplot as plt"
   ]
  },
  {
   "cell_type": "code",
   "execution_count": 2,
   "metadata": {
    "collapsed": false
   },
   "outputs": [],
   "source": [
    "plt.rcdefaults()\n",
    "# Typeface sizes\n",
    "from matplotlib import rcParams\n",
    "rcParams['axes.labelsize'] = 12\n",
    "rcParams['xtick.labelsize'] = 12\n",
    "rcParams['ytick.labelsize'] = 12\n",
    "rcParams['legend.fontsize'] = 12\n",
    "#rcParams['font.family'] = 'serif'\n",
    "#rcParams['font.serif'] = ['Computer Modern Roman']\n",
    "#rcParams['text.usetex'] = True\n",
    "\n",
    "# Optimal figure size\n",
    "WIDTH = 350.0  # the number latex spits out\n",
    "FACTOR = 0.90  # the fraction of the width you'd like the figure to occupy\n",
    "fig_width_pt  = WIDTH * FACTOR\n",
    "\n",
    "inches_per_pt = 1.0 / 72.27\n",
    "golden_ratio  = (np.sqrt(5) - 1.0) / 2.0  # because it looks good\n",
    "\n",
    "fig_width_in  = fig_width_pt * inches_per_pt  # figure width in inches\n",
    "fig_height_in = fig_width_in * golden_ratio   # figure height in inches\n",
    "fig_dims      = [fig_width_in, fig_height_in] # fig dims as a list\n",
    "\n",
    "rcParams['figure.figsize'] = fig_dims"
   ]
  },
  {
   "cell_type": "code",
   "execution_count": 3,
   "metadata": {
    "collapsed": false
   },
   "outputs": [],
   "source": [
    "%matplotlib inline"
   ]
  },
  {
   "cell_type": "code",
   "execution_count": null,
   "metadata": {
    "collapsed": false
   },
   "outputs": [
    {
     "name": "stderr",
     "output_type": "stream",
     "text": [
      "/Users/jcole/anaconda/lib/python2.7/site-packages/pytz/__init__.py:29: UserWarning: Module argparse was already imported from /Users/jcole/anaconda/lib/python2.7/argparse.pyc, but /Users/jcole/anaconda/lib/python2.7/site-packages is being added to sys.path\n",
      "  from pkg_resources import resource_stream\n"
     ]
    }
   ],
   "source": [
    "import pandas as pd\n",
    "pd.set_option('display.mpl_style', 'default')\n",
    "import itertools"
   ]
  },
  {
   "cell_type": "markdown",
   "metadata": {},
   "source": [
    "First, let's load the results from the small model of polled included in the default settings. This involves loading four animal files (live cows, dead cows, live bulls, and dead bulls). We will load them and merge them into a single data frame."
   ]
  },
  {
   "cell_type": "code",
   "execution_count": null,
   "metadata": {
    "collapsed": false
   },
   "outputs": [],
   "source": [
    "for sim in xrange(1,11):\n",
    "    # Load the individual history files\n",
    "    fij = pd.read_csv('holstein/1/fij_paa_pryce_%s.txt'%sim, sep=' ', header=None, names=['calf','sire','dam','gen','fij','paa','mating'])\n",
    "    if sim == 1:\n",
    "        all_animals = fij\n",
    "    else:\n",
    "        all_animals = pd.concat([all_animals, fij])"
   ]
  },
  {
   "cell_type": "code",
   "execution_count": null,
   "metadata": {
    "collapsed": false
   },
   "outputs": [],
   "source": [
    "all_animals.head()"
   ]
  },
  {
   "cell_type": "code",
   "execution_count": null,
   "metadata": {
    "collapsed": false
   },
   "outputs": [],
   "source": [
    "fij_on_paa = pd.ols(y=all_animals['fij'], x=all_animals['paa'], intercept=True)\n",
    "print(all_animals['fij'].corr(all_animals['paa']), fij_on_paa.f_stat['p-value'])"
   ]
  }
 ],
 "metadata": {
  "kernelspec": {
   "display_name": "Python 2",
   "language": "python",
   "name": "python2"
  },
  "language_info": {
   "codemirror_mode": {
    "name": "ipython",
    "version": 2
   },
   "file_extension": ".py",
   "mimetype": "text/x-python",
   "name": "python",
   "nbconvert_exporter": "python",
   "pygments_lexer": "ipython2",
   "version": "2.7.10"
  }
 },
 "nbformat": 4,
 "nbformat_minor": 0
}
